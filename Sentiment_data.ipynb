{
 "cells": [
  {
   "cell_type": "code",
   "execution_count": 1,
   "id": "6c4c287b",
   "metadata": {},
   "outputs": [],
   "source": [
    "import os\n",
    "import pandas as pd\n",
    "import numpy as np\n",
    "from bs4 import BeautifulSoup\n",
    "import re\n",
    "import string\n",
    "import spacy\n",
    "import nltk\n",
    "from nltk.corpus import stopwords\n",
    "from nltk.tokenize import wordpunct_tokenize\n",
    "import tensorflow_datasets as tfds\n",
    "from keras.callbacks import EarlyStopping, ReduceLROnPlateau\n",
    "from keras.layers import LSTM, Bidirectional, Dense, Dropout, Embedding\n",
    "from keras import Input, Model\n",
    "from keras.models import load_model\n",
    "import matplotlib.pyplot as plt"
   ]
  },
  {
   "cell_type": "code",
   "execution_count": 2,
   "id": "d725ca31",
   "metadata": {},
   "outputs": [
    {
     "name": "stderr",
     "output_type": "stream",
     "text": [
      "[nltk_data] Downloading package stopwords to\n",
      "[nltk_data]     /home/leeladhar/nltk_data...\n",
      "[nltk_data]   Package stopwords is already up-to-date!\n",
      "[nltk_data] Downloading package punkt to /home/leeladhar/nltk_data...\n",
      "[nltk_data]   Package punkt is already up-to-date!\n"
     ]
    }
   ],
   "source": [
    "nltk.download('stopwords')\n",
    "nltk.download('punkt')\n",
    "stopwords_list = stopwords.words('english')\n",
    "tokenizer = wordpunct_tokenize\n",
    "\n",
    "\n",
    "nlp = spacy.load('en_core_web_sm')\n",
    "\n",
    "lst = ['no', 'not', 'nor', 'very', 'too', 'ain\\'', 'ain\\'t']\n",
    "stopwords_list = [s for s in stopwords_list if s not in lst]"
   ]
  },
  {
   "cell_type": "code",
   "execution_count": 3,
   "id": "444e37e1",
   "metadata": {},
   "outputs": [],
   "source": [
    "TOTAL_LEN = 2048\n",
    "BATCH_SIZE = 32"
   ]
  },
  {
   "cell_type": "code",
   "execution_count": 4,
   "id": "b67c0ac0",
   "metadata": {},
   "outputs": [],
   "source": [
    "import contractions"
   ]
  },
  {
   "cell_type": "code",
   "execution_count": 5,
   "id": "bfaeb489",
   "metadata": {},
   "outputs": [],
   "source": [
    "def get_data_dic(folder):\n",
    "    y = list()\n",
    "    x = list()\n",
    "    data = dict()\n",
    "    base_path = os.path.join('/home/leeladhar/Documents/sentiment_data', folder)\n",
    "    for path in os.listdir(base_path):\n",
    "        for files in [os.path.join(base_path, path,f) for f in os.listdir(os.path.join(base_path, path))]:\n",
    "            file = open(files, 'r').read()\n",
    "            x.append(file)\n",
    "            if path == 'neg':\n",
    "                y.append(0)\n",
    "            elif path == 'pos':\n",
    "                y.append(1)\n",
    "\n",
    "    data['text'] = x\n",
    "    data['sentiment'] = y\n",
    "    return pd.DataFrame(data).sample(frac=1).reset_index(drop=True)        "
   ]
  },
  {
   "cell_type": "code",
   "execution_count": 6,
   "id": "91c92900-1976-4f33-97ca-373f1960483b",
   "metadata": {},
   "outputs": [],
   "source": [
    "train_df = get_data_dic('train')\n",
    "test_df = get_data_dic('test')"
   ]
  },
  {
   "cell_type": "code",
   "execution_count": 7,
   "id": "d567291b-ad2e-4476-aac2-2d6a8381b0d8",
   "metadata": {},
   "outputs": [
    {
     "name": "stdout",
     "output_type": "stream",
     "text": [
      "(35769, 2)\n"
     ]
    },
    {
     "data": {
      "text/html": [
       "<div>\n",
       "<style scoped>\n",
       "    .dataframe tbody tr th:only-of-type {\n",
       "        vertical-align: middle;\n",
       "    }\n",
       "\n",
       "    .dataframe tbody tr th {\n",
       "        vertical-align: top;\n",
       "    }\n",
       "\n",
       "    .dataframe thead th {\n",
       "        text-align: right;\n",
       "    }\n",
       "</style>\n",
       "<table border=\"1\" class=\"dataframe\">\n",
       "  <thead>\n",
       "    <tr style=\"text-align: right;\">\n",
       "      <th></th>\n",
       "      <th>text</th>\n",
       "      <th>sentiment</th>\n",
       "    </tr>\n",
       "  </thead>\n",
       "  <tbody>\n",
       "    <tr>\n",
       "      <th>0</th>\n",
       "      <td>the lowest score possible is one star? that's ...</td>\n",
       "      <td>0</td>\n",
       "    </tr>\n",
       "    <tr>\n",
       "      <th>1</th>\n",
       "      <td>\"The Love Letter\" is a somewhat pleasant, very...</td>\n",
       "      <td>1</td>\n",
       "    </tr>\n",
       "    <tr>\n",
       "      <th>2</th>\n",
       "      <td>Until today I had never seen this film. Its wa...</td>\n",
       "      <td>1</td>\n",
       "    </tr>\n",
       "    <tr>\n",
       "      <th>3</th>\n",
       "      <td>and anyone who watches this film will agree. T...</td>\n",
       "      <td>1</td>\n",
       "    </tr>\n",
       "    <tr>\n",
       "      <th>4</th>\n",
       "      <td>For anyone who's judged others at first meetin...</td>\n",
       "      <td>1</td>\n",
       "    </tr>\n",
       "  </tbody>\n",
       "</table>\n",
       "</div>"
      ],
      "text/plain": [
       "                                                text  sentiment\n",
       "0  the lowest score possible is one star? that's ...          0\n",
       "1  \"The Love Letter\" is a somewhat pleasant, very...          1\n",
       "2  Until today I had never seen this film. Its wa...          1\n",
       "3  and anyone who watches this film will agree. T...          1\n",
       "4  For anyone who's judged others at first meetin...          1"
      ]
     },
     "execution_count": 7,
     "metadata": {},
     "output_type": "execute_result"
    }
   ],
   "source": [
    "print(train_df.shape)\n",
    "train_df.head()"
   ]
  },
  {
   "cell_type": "code",
   "execution_count": 8,
   "id": "3ff95766-d1f5-4316-b20f-0eeda6b23260",
   "metadata": {},
   "outputs": [
    {
     "name": "stdout",
     "output_type": "stream",
     "text": [
      "(10000, 2)\n"
     ]
    },
    {
     "data": {
      "text/html": [
       "<div>\n",
       "<style scoped>\n",
       "    .dataframe tbody tr th:only-of-type {\n",
       "        vertical-align: middle;\n",
       "    }\n",
       "\n",
       "    .dataframe tbody tr th {\n",
       "        vertical-align: top;\n",
       "    }\n",
       "\n",
       "    .dataframe thead th {\n",
       "        text-align: right;\n",
       "    }\n",
       "</style>\n",
       "<table border=\"1\" class=\"dataframe\">\n",
       "  <thead>\n",
       "    <tr style=\"text-align: right;\">\n",
       "      <th></th>\n",
       "      <th>text</th>\n",
       "      <th>sentiment</th>\n",
       "    </tr>\n",
       "  </thead>\n",
       "  <tbody>\n",
       "    <tr>\n",
       "      <th>0</th>\n",
       "      <td>Ghilli is the best movie of vijay &amp; one of the...</td>\n",
       "      <td>1</td>\n",
       "    </tr>\n",
       "    <tr>\n",
       "      <th>1</th>\n",
       "      <td>this movie is honestly the worst piece of rubb...</td>\n",
       "      <td>0</td>\n",
       "    </tr>\n",
       "    <tr>\n",
       "      <th>2</th>\n",
       "      <td>This movie is bad as we all knew it would be. ...</td>\n",
       "      <td>0</td>\n",
       "    </tr>\n",
       "    <tr>\n",
       "      <th>3</th>\n",
       "      <td>The Director loves the actress and it shows. T...</td>\n",
       "      <td>1</td>\n",
       "    </tr>\n",
       "    <tr>\n",
       "      <th>4</th>\n",
       "      <td>This is the worst exercise in middle class pre...</td>\n",
       "      <td>0</td>\n",
       "    </tr>\n",
       "  </tbody>\n",
       "</table>\n",
       "</div>"
      ],
      "text/plain": [
       "                                                text  sentiment\n",
       "0  Ghilli is the best movie of vijay & one of the...          1\n",
       "1  this movie is honestly the worst piece of rubb...          0\n",
       "2  This movie is bad as we all knew it would be. ...          0\n",
       "3  The Director loves the actress and it shows. T...          1\n",
       "4  This is the worst exercise in middle class pre...          0"
      ]
     },
     "execution_count": 8,
     "metadata": {},
     "output_type": "execute_result"
    }
   ],
   "source": [
    "print(test_df.shape)\n",
    "test_df.head()"
   ]
  },
  {
   "cell_type": "code",
   "execution_count": 9,
   "id": "0c2dbd3d-d1eb-4120-aaec-871934f592db",
   "metadata": {},
   "outputs": [],
   "source": [
    "def process_data_text(text,\n",
    "                     html_tag_remove=True,\n",
    "                     contraction=True,\n",
    "                     remove_spcl_char=True,\n",
    "                     remove_punct=True,\n",
    "                     remove_newline_char=True,\n",
    "                     root_word='lemm',\n",
    "                     remove_stopword=True,\n",
    "                     remove_extra_space=True,\n",
    "                     to_lower=True):\n",
    "    \n",
    "    \n",
    "    if html_tag_remove:\n",
    "        text = BeautifulSoup(text, 'html.parser').get_text()\n",
    "    if contraction:\n",
    "        text = contractions.fix(text)\n",
    "    if remove_spcl_char:\n",
    "        text = re.sub(r'[^a-zA-z0-9.,!?/:;\\\"\\'\\s]', '', text)\n",
    "    if remove_punct:\n",
    "        text = ''.join([c for c in text if c not in string.punctuation])\n",
    "    if remove_newline_char:\n",
    "        text = text.replace('\\n', ' ')\n",
    "    if root_word=='lemm':\n",
    "        text = nlp(text)\n",
    "        text = ' '.join([word.lemma_ if word.lemma_ != '-PRON-' else word.text for word in text])\n",
    "    elif root_word == 'stem':\n",
    "        text = nltk.porter.PorterStemmer()\n",
    "        text = ' '.join([stemmer.stem(word) for word in text.split()])\n",
    "    else:\n",
    "        raise Exception('Root Word is wrong.')\n",
    "    if remove_stopword:\n",
    "        tokens = tokenizer(text)\n",
    "        tokens = [token.strip() for token in tokens]\n",
    "        tok = [token for token in tokens if token.lower() not in stopwords_list]\n",
    "        text = ' '.join(tok)\n",
    "    if remove_extra_space:\n",
    "        text = re.sub(r'^\\s*|\\s\\s*', ' ', text).strip()\n",
    "    if to_lower:\n",
    "        text = text.lower()\n",
    "    return text"
   ]
  },
  {
   "cell_type": "code",
   "execution_count": 10,
   "id": "814290f2-c4c8-4ed0-9383-fa4b5863cc16",
   "metadata": {},
   "outputs": [],
   "source": [
    "test_df['text'] = test_df['text'].apply(lambda x: process_data_text(x))"
   ]
  },
  {
   "cell_type": "code",
   "execution_count": 11,
   "id": "3f2b668f-3aff-4ab1-86fc-3087a538d0e1",
   "metadata": {},
   "outputs": [],
   "source": [
    "def corpus_gen():\n",
    "    for i, row in train_df.iterrows():\n",
    "        yield row['text']\n",
    "\n",
    "tokenizer_sentiment = tfds.deprecated.text.SubwordTextEncoder.build_from_corpus(corpus_gen(), target_vocab_size=2**13)\n",
    "tokenizer_sentiment.save_to_file('sentiment')"
   ]
  },
  {
   "cell_type": "code",
   "execution_count": 12,
   "id": "a7c82ef4-022b-4d66-b79e-efbea69f0ada",
   "metadata": {},
   "outputs": [],
   "source": [
    "tokenizer_sentiment = tfds.deprecated.text.SubwordTextEncoder.load_from_file('sentiment')"
   ]
  },
  {
   "cell_type": "code",
   "execution_count": 13,
   "id": "cdd0c7b6-e580-49be-ab0c-e80bb0e16389",
   "metadata": {},
   "outputs": [],
   "source": [
    "def encoding_and_padding(text):\n",
    "    en_text = [tokenizer_sentiment.vocab_size] + tokenizer_sentiment.encode(text)\n",
    "    if len(en_text) < TOTAL_LEN:\n",
    "        en_text = en_text + [0] * (TOTAL_LEN - len(en_text) - 1) + [tokenizer_sentiment.vocab_size + 1]\n",
    "    else:\n",
    "        en_text = en_text[:TOTAL_LEN-1] + [tokenizer_sentiment.vocab_size + 1]\n",
    "    return en_text"
   ]
  },
  {
   "cell_type": "code",
   "execution_count": 14,
   "id": "05d63ab2-7c26-4537-a266-b66457ba2c7e",
   "metadata": {},
   "outputs": [],
   "source": [
    "def get_data_x_y(df):\n",
    "    x = np.asarray([r['encoded_text'] for i, r in df.iterrows()])\n",
    "    y = np.asarray(df['sentiment'])\n",
    "    return x, y"
   ]
  },
  {
   "cell_type": "code",
   "execution_count": 15,
   "id": "74967c7f-907d-4716-9e83-90c5d463c4f2",
   "metadata": {},
   "outputs": [
    {
     "data": {
      "text/html": [
       "<div>\n",
       "<style scoped>\n",
       "    .dataframe tbody tr th:only-of-type {\n",
       "        vertical-align: middle;\n",
       "    }\n",
       "\n",
       "    .dataframe tbody tr th {\n",
       "        vertical-align: top;\n",
       "    }\n",
       "\n",
       "    .dataframe thead th {\n",
       "        text-align: right;\n",
       "    }\n",
       "</style>\n",
       "<table border=\"1\" class=\"dataframe\">\n",
       "  <thead>\n",
       "    <tr style=\"text-align: right;\">\n",
       "      <th></th>\n",
       "      <th>sentiment</th>\n",
       "      <th>encoded_text</th>\n",
       "    </tr>\n",
       "  </thead>\n",
       "  <tbody>\n",
       "    <tr>\n",
       "      <th>0</th>\n",
       "      <td>0</td>\n",
       "      <td>[8160, 1, 900, 631, 1359, 1640, 9, 45, 884, 87...</td>\n",
       "    </tr>\n",
       "    <tr>\n",
       "      <th>1</th>\n",
       "      <td>1</td>\n",
       "      <td>[8160, 7938, 19, 3987, 2214, 590, 54, 9, 4, 10...</td>\n",
       "    </tr>\n",
       "    <tr>\n",
       "      <th>2</th>\n",
       "      <td>1</td>\n",
       "      <td>[8160, 908, 4071, 7936, 3275, 12, 82, 140, 166...</td>\n",
       "    </tr>\n",
       "    <tr>\n",
       "      <th>3</th>\n",
       "      <td>1</td>\n",
       "      <td>[8160, 5, 400, 46, 3334, 8, 14, 33, 96, 3404, ...</td>\n",
       "    </tr>\n",
       "    <tr>\n",
       "      <th>4</th>\n",
       "      <td>1</td>\n",
       "      <td>[8160, 377, 400, 530, 7943, 8, 3011, 38, 942, ...</td>\n",
       "    </tr>\n",
       "  </tbody>\n",
       "</table>\n",
       "</div>"
      ],
      "text/plain": [
       "   sentiment                                       encoded_text\n",
       "0          0  [8160, 1, 900, 631, 1359, 1640, 9, 45, 884, 87...\n",
       "1          1  [8160, 7938, 19, 3987, 2214, 590, 54, 9, 4, 10...\n",
       "2          1  [8160, 908, 4071, 7936, 3275, 12, 82, 140, 166...\n",
       "3          1  [8160, 5, 400, 46, 3334, 8, 14, 33, 96, 3404, ...\n",
       "4          1  [8160, 377, 400, 530, 7943, 8, 3011, 38, 942, ..."
      ]
     },
     "execution_count": 15,
     "metadata": {},
     "output_type": "execute_result"
    }
   ],
   "source": [
    "train_df['encoded_text'] = train_df['text'].apply(lambda x: encoding_and_padding(x))\n",
    "train_df.drop('text', axis=1, inplace=True)\n",
    "train_df.head()"
   ]
  },
  {
   "cell_type": "code",
   "execution_count": 16,
   "id": "42dc56ad-7452-4616-8ac6-9bb4aa8f1cee",
   "metadata": {},
   "outputs": [
    {
     "data": {
      "text/html": [
       "<div>\n",
       "<style scoped>\n",
       "    .dataframe tbody tr th:only-of-type {\n",
       "        vertical-align: middle;\n",
       "    }\n",
       "\n",
       "    .dataframe tbody tr th {\n",
       "        vertical-align: top;\n",
       "    }\n",
       "\n",
       "    .dataframe thead th {\n",
       "        text-align: right;\n",
       "    }\n",
       "</style>\n",
       "<table border=\"1\" class=\"dataframe\">\n",
       "  <thead>\n",
       "    <tr style=\"text-align: right;\">\n",
       "      <th></th>\n",
       "      <th>sentiment</th>\n",
       "      <th>encoded_text</th>\n",
       "    </tr>\n",
       "  </thead>\n",
       "  <tbody>\n",
       "    <tr>\n",
       "      <th>0</th>\n",
       "      <td>1</td>\n",
       "      <td>[8160, 1164, 1212, 128, 75, 27, 2702, 718, 47,...</td>\n",
       "    </tr>\n",
       "    <tr>\n",
       "      <th>1</th>\n",
       "      <td>0</td>\n",
       "      <td>[8160, 27, 4620, 133, 630, 5167, 7936, 163, 86...</td>\n",
       "    </tr>\n",
       "    <tr>\n",
       "      <th>2</th>\n",
       "      <td>0</td>\n",
       "      <td>[8160, 27, 133, 160, 71, 100, 960, 171, 133, 1...</td>\n",
       "    </tr>\n",
       "    <tr>\n",
       "      <th>3</th>\n",
       "      <td>1</td>\n",
       "      <td>[8160, 295, 171, 1298, 189, 1298, 7498, 284, 1...</td>\n",
       "    </tr>\n",
       "    <tr>\n",
       "      <th>4</th>\n",
       "      <td>0</td>\n",
       "      <td>[8160, 133, 4011, 6682, 540, 1482, 1574, 4743,...</td>\n",
       "    </tr>\n",
       "  </tbody>\n",
       "</table>\n",
       "</div>"
      ],
      "text/plain": [
       "   sentiment                                       encoded_text\n",
       "0          1  [8160, 1164, 1212, 128, 75, 27, 2702, 718, 47,...\n",
       "1          0  [8160, 27, 4620, 133, 630, 5167, 7936, 163, 86...\n",
       "2          0  [8160, 27, 133, 160, 71, 100, 960, 171, 133, 1...\n",
       "3          1  [8160, 295, 171, 1298, 189, 1298, 7498, 284, 1...\n",
       "4          0  [8160, 133, 4011, 6682, 540, 1482, 1574, 4743,..."
      ]
     },
     "execution_count": 16,
     "metadata": {},
     "output_type": "execute_result"
    }
   ],
   "source": [
    "test_df['encoded_text'] = test_df['text'].apply(lambda x: encoding_and_padding(x))\n",
    "test_df.drop('text', axis=1, inplace=True)\n",
    "test_df.head()"
   ]
  },
  {
   "cell_type": "code",
   "execution_count": 17,
   "id": "fe1a2d43-bf47-474c-80cf-200998fb4e64",
   "metadata": {},
   "outputs": [],
   "source": [
    "def model_data_gen(df):\n",
    "    while True:\n",
    "        df_sample = df.sample(n=BATCH_SIZE)\n",
    "        x, y = get_data_x_y(df_sample)\n",
    "        yield x, y"
   ]
  },
  {
   "cell_type": "code",
   "execution_count": 18,
   "id": "6ffe3db6-c179-4454-9734-45632476a0f3",
   "metadata": {},
   "outputs": [],
   "source": [
    "p, q = next(model_data_gen(train_df))"
   ]
  },
  {
   "cell_type": "code",
   "execution_count": 19,
   "id": "512a248a-c83a-4c34-8ff9-4e8a010c6d6f",
   "metadata": {},
   "outputs": [
    {
     "name": "stdout",
     "output_type": "stream",
     "text": [
      "Text Batch Sequence Shape:  (32, 2048)\n",
      "Corresponding Sentiment Batch Shape:  (32,)\n"
     ]
    }
   ],
   "source": [
    "print('Text Batch Sequence Shape: ', p.shape)\n",
    "print('Corresponding Sentiment Batch Shape: ', q.shape)"
   ]
  },
  {
   "cell_type": "code",
   "execution_count": 20,
   "id": "d14faa12-3f56-491b-b649-880981dc9958",
   "metadata": {},
   "outputs": [],
   "source": [
    "train_gen = model_data_gen(train_df)\n",
    "val_gen = model_data_gen(test_df)"
   ]
  },
  {
   "cell_type": "code",
   "execution_count": 21,
   "id": "77c4ec2c-7a3b-4848-b768-b48e600b03bd",
   "metadata": {},
   "outputs": [],
   "source": [
    "VOCAB_SIZE = tokenizer_sentiment.vocab_size + 2\n",
    "EMB_SIZE = 128"
   ]
  },
  {
   "cell_type": "code",
   "execution_count": 22,
   "id": "a9ef08c1-63c7-4965-aed4-3fd3247c209f",
   "metadata": {},
   "outputs": [
    {
     "name": "stdout",
     "output_type": "stream",
     "text": [
      "Model: \"model\"\n",
      "_________________________________________________________________\n",
      "Layer (type)                 Output Shape              Param #   \n",
      "=================================================================\n",
      "input_1 (InputLayer)         [(None, 2048)]            0         \n",
      "_________________________________________________________________\n",
      "embedding (Embedding)        (None, 2048, 128)         1044736   \n",
      "_________________________________________________________________\n",
      "bidirectional (Bidirectional (None, 2048, 128)         98816     \n",
      "_________________________________________________________________\n",
      "bidirectional_1 (Bidirection (None, 128)               98816     \n",
      "_________________________________________________________________\n",
      "dropout (Dropout)            (None, 128)               0         \n",
      "_________________________________________________________________\n",
      "dense (Dense)                (None, 64)                8256      \n",
      "_________________________________________________________________\n",
      "dropout_1 (Dropout)          (None, 64)                0         \n",
      "_________________________________________________________________\n",
      "dense_1 (Dense)              (None, 32)                2080      \n",
      "_________________________________________________________________\n",
      "dense_2 (Dense)              (None, 1)                 33        \n",
      "=================================================================\n",
      "Total params: 1,252,737\n",
      "Trainable params: 1,252,737\n",
      "Non-trainable params: 0\n",
      "_________________________________________________________________\n"
     ]
    }
   ],
   "source": [
    "inputs = Input((TOTAL_LEN))\n",
    "x = Embedding(VOCAB_SIZE, EMB_SIZE)(inputs)\n",
    "x = Bidirectional(LSTM(64, return_sequences=True))(x)\n",
    "x = Bidirectional(LSTM(64))(x)\n",
    "x = Dropout(0.4)(x)\n",
    "x = Dense(64, activation='relu')(x)\n",
    "x = Dropout(0.3)(x)\n",
    "x = Dense(32, activation='relu')(x)\n",
    "outputs = Dense(1, activation=\"sigmoid\")(x)\n",
    "\n",
    "model_lstm = Model(inputs, outputs)\n",
    "\n",
    "model_lstm.summary()"
   ]
  },
  {
   "cell_type": "code",
   "execution_count": 23,
   "id": "6cb75567-b7e6-4458-8f5e-269bf0112b80",
   "metadata": {},
   "outputs": [],
   "source": [
    "model_lstm.compile(loss='binary_crossentropy', optimizer='adam', metrics=['accuracy'])"
   ]
  },
  {
   "cell_type": "code",
   "execution_count": 24,
   "id": "21ba0bde-25b1-46b5-ba09-db4f35e35981",
   "metadata": {},
   "outputs": [],
   "source": [
    "early_stop = EarlyStopping(patience=10, restore_best_weights=True, monitor='val_accuracy')\n",
    "lr_red = ReduceLROnPlateau(patience=3, factor=0.01, monitor='val_accuracy')"
   ]
  },
  {
   "cell_type": "code",
   "execution_count": 25,
   "id": "8813702a-c76c-49c5-9c31-c379615469c3",
   "metadata": {},
   "outputs": [
    {
     "name": "stdout",
     "output_type": "stream",
     "text": [
      "Epoch 1/100\n",
      "64/64 [==============================] - 213s 3s/step - loss: 0.6936 - accuracy: 0.5102 - val_loss: 0.6956 - val_accuracy: 0.4854\n",
      "Epoch 2/100\n",
      "64/64 [==============================] - 196s 3s/step - loss: 0.6926 - accuracy: 0.5247 - val_loss: 0.6170 - val_accuracy: 0.6758\n",
      "Epoch 3/100\n",
      "64/64 [==============================] - 195s 3s/step - loss: 0.6738 - accuracy: 0.6062 - val_loss: 0.5784 - val_accuracy: 0.7129\n",
      "Epoch 4/100\n",
      "64/64 [==============================] - 196s 3s/step - loss: 0.5724 - accuracy: 0.7142 - val_loss: 0.6321 - val_accuracy: 0.6689\n",
      "Epoch 5/100\n",
      "64/64 [==============================] - 195s 3s/step - loss: 0.5656 - accuracy: 0.7306 - val_loss: 0.5274 - val_accuracy: 0.7422\n",
      "Epoch 6/100\n",
      "64/64 [==============================] - 198s 3s/step - loss: 0.5400 - accuracy: 0.7597 - val_loss: 0.5595 - val_accuracy: 0.7588\n",
      "Epoch 7/100\n",
      "64/64 [==============================] - 195s 3s/step - loss: 0.4996 - accuracy: 0.7856 - val_loss: 0.5215 - val_accuracy: 0.7349\n",
      "Epoch 8/100\n",
      "64/64 [==============================] - 195s 3s/step - loss: 0.4733 - accuracy: 0.8055 - val_loss: 0.4989 - val_accuracy: 0.7886\n",
      "Epoch 9/100\n",
      "64/64 [==============================] - 195s 3s/step - loss: 0.4980 - accuracy: 0.7808 - val_loss: 0.5667 - val_accuracy: 0.6919\n",
      "Epoch 10/100\n",
      "64/64 [==============================] - 196s 3s/step - loss: 0.5128 - accuracy: 0.7522 - val_loss: 0.5002 - val_accuracy: 0.7847\n",
      "Epoch 11/100\n",
      "64/64 [==============================] - 196s 3s/step - loss: 0.5354 - accuracy: 0.7627 - val_loss: 0.6047 - val_accuracy: 0.7217\n",
      "Epoch 12/100\n",
      "64/64 [==============================] - 196s 3s/step - loss: 0.5294 - accuracy: 0.7854 - val_loss: 0.5834 - val_accuracy: 0.7388\n",
      "Epoch 13/100\n",
      "64/64 [==============================] - 195s 3s/step - loss: 0.5584 - accuracy: 0.7601 - val_loss: 0.5780 - val_accuracy: 0.7363\n",
      "Epoch 14/100\n",
      "64/64 [==============================] - 195s 3s/step - loss: 0.5187 - accuracy: 0.7792 - val_loss: 0.5597 - val_accuracy: 0.7490\n",
      "Epoch 15/100\n",
      "64/64 [==============================] - 195s 3s/step - loss: 0.5303 - accuracy: 0.7790 - val_loss: 0.5820 - val_accuracy: 0.7305\n",
      "Epoch 16/100\n",
      "64/64 [==============================] - 195s 3s/step - loss: 0.5414 - accuracy: 0.7649 - val_loss: 0.5997 - val_accuracy: 0.7139\n",
      "Epoch 17/100\n",
      "64/64 [==============================] - 194s 3s/step - loss: 0.5364 - accuracy: 0.7611 - val_loss: 0.5830 - val_accuracy: 0.7290\n",
      "Epoch 18/100\n",
      "64/64 [==============================] - 193s 3s/step - loss: 0.5157 - accuracy: 0.7776 - val_loss: 0.5820 - val_accuracy: 0.7310\n"
     ]
    }
   ],
   "source": [
    "hist = model_lstm.fit(train_gen, epochs=100, steps_per_epoch=64, validation_data=val_gen,\n",
    "                      validation_steps=64, callbacks=[early_stop, lr_red])"
   ]
  },
  {
   "cell_type": "code",
   "execution_count": 26,
   "id": "7dbe966a-e98f-407c-bf01-e60af224dcc6",
   "metadata": {},
   "outputs": [],
   "source": [
    "model_lstm.save('model_lstm.h5')"
   ]
  },
  {
   "cell_type": "code",
   "execution_count": 27,
   "id": "60ca5d19-9ef6-4dd1-9ac7-4219696c25f6",
   "metadata": {},
   "outputs": [],
   "source": [
    "def res(result):\n",
    "    if result > 0.5:\n",
    "        print('positive')\n",
    "    else:\n",
    "        print('negative')"
   ]
  },
  {
   "cell_type": "code",
   "execution_count": 28,
   "id": "d381bdb4-8229-4ecc-b14c-e7fd42a6cba7",
   "metadata": {},
   "outputs": [
    {
     "data": {
      "image/png": "[encoded data removed]",
      "text/plain": [
       "<Figure size 432x288 with 1 Axes>"
      ]
     },
     "metadata": {
      "needs_background": "light"
     },
     "output_type": "display_data"
    }
   ],
   "source": [
    "p1 = plt.plot(range(len(hist.history['accuracy'])), hist.history['accuracy'])\n",
    "p2 = plt.plot(range(len(hist.history['val_accuracy'])), hist.history['val_accuracy'])\n",
    "plt.legend(['acc', 'val_acc'])\n",
    "plt.show()"
   ]
  },
  {
   "cell_type": "code",
   "execution_count": 29,
   "id": "fe47719f-3ba0-49e5-98e3-8954138fc9c2",
   "metadata": {},
   "outputs": [
    {
     "data": {
      "image/png": "[encoded data removed]",
      "text/plain": [
       "<Figure size 432x288 with 1 Axes>"
      ]
     },
     "metadata": {
      "needs_background": "light"
     },
     "output_type": "display_data"
    }
   ],
   "source": [
    "p1 = plt.plot(range(len(hist.history['loss'])), hist.history['loss'])\n",
    "p2 = plt.plot(range(len(hist.history['val_loss'])), hist.history['val_loss'])\n",
    "plt.legend(['acc', 'val_acc'])\n",
    "plt.show()"
   ]
  }
 ],
 "metadata": {
  "kernelspec": {
   "display_name": "Python 3",
   "language": "python",
   "name": "python3"
  },
  "language_info": {
   "codemirror_mode": {
    "name": "ipython",
    "version": 3
   },
   "file_extension": ".py",
   "mimetype": "text/x-python",
   "name": "python",
   "nbconvert_exporter": "python",
   "pygments_lexer": "ipython3",
   "version": "3.8.10"
  }
 },
 "nbformat": 4,
 "nbformat_minor": 5
}
